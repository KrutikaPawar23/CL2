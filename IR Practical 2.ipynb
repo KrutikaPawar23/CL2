{
 "cells": [
  {
   "cell_type": "code",
   "execution_count": 1,
   "id": "5fcfd943-bee4-4a32-9384-5c4d01ad2040",
   "metadata": {},
   "outputs": [],
   "source": [
    "import re"
   ]
  },
  {
   "cell_type": "code",
   "execution_count": 2,
   "id": "435ab445-ece9-42c2-be9f-4d283f05b603",
   "metadata": {},
   "outputs": [],
   "source": [
    "documents = [\n",
    "    \"The quick brown fox jumps over the lazy dog.\",\n",
    "    \"The fast fox was too quick for the slow dog.\",\n",
    "    \"The quick brown fox.\",\n",
    "    \"A fast fox and a slow dog are playing.\"\n",
    "]"
   ]
  },
  {
   "cell_type": "code",
   "execution_count": 13,
   "id": "06445882-903e-4dab-88de-3c427da43c70",
   "metadata": {},
   "outputs": [],
   "source": [
    "queries= [\n",
    "    \"quick fox\", \n",
    "    \"slow dog\",  \n",
    "    \"fast fox\",   \n",
    "    \"lazy dog\"  \n",
    "]"
   ]
  },
  {
   "cell_type": "code",
   "execution_count": 8,
   "id": "347870f5-3734-452f-a567-f61ac6821067",
   "metadata": {},
   "outputs": [],
   "source": [
    "index={}\n",
    "for doc_id,doc in enumerate(documents):\n",
    "    words= set(re.findall(r'\\w+',doc.lower()))\n",
    "    for word in words:\n",
    "            if word not in index:\n",
    "                index[word] = set()\n",
    "            index[word].add(doc_id)"
   ]
  },
  {
   "cell_type": "code",
   "execution_count": 9,
   "id": "b84212e7-3f98-4288-b9d8-0e1241834e1c",
   "metadata": {},
   "outputs": [
    {
     "data": {
      "text/plain": [
       "{'fox': {0, 1, 2, 3},\n",
       " 'the': {0, 1, 2},\n",
       " 'dog': {0, 1, 3},\n",
       " 'brown': {0, 2},\n",
       " 'quick': {0, 1, 2},\n",
       " 'jumps': {0},\n",
       " 'over': {0},\n",
       " 'lazy': {0},\n",
       " 'fast': {1, 3},\n",
       " 'was': {1},\n",
       " 'too': {1},\n",
       " 'for': {1},\n",
       " 'slow': {1, 3},\n",
       " 'and': {3},\n",
       " 'a': {3},\n",
       " 'are': {3},\n",
       " 'playing': {3}}"
      ]
     },
     "execution_count": 9,
     "metadata": {},
     "output_type": "execute_result"
    }
   ],
   "source": [
    "index"
   ]
  },
  {
   "cell_type": "code",
   "execution_count": 33,
   "id": "acf29ce1-1dd2-4638-9805-1665604c9376",
   "metadata": {},
   "outputs": [],
   "source": [
    "def search(index, query):\n",
    "    query_terms = query.lower().split()\n",
    "    result_doc = None\n",
    "    for term in query_terms:\n",
    "        if term in index:\n",
    "            if result_doc is None:\n",
    "                result_doc=index[term]\n",
    "            else:\n",
    "                result_doc&= index[term]\n",
    "        else:\n",
    "            return set()\n",
    "    return result_doc if result_doc is not None else set()\n"
   ]
  },
  {
   "cell_type": "code",
   "execution_count": 34,
   "id": "2cff584c-70ec-4a2c-8c64-2e8ebdf54606",
   "metadata": {},
   "outputs": [
    {
     "name": "stdout",
     "output_type": "stream",
     "text": [
      "Query: 'quick fox' -> Documents: {0, 1, 2}\n",
      "Query: 'slow dog' -> Documents: {1, 3}\n",
      "Query: 'fast fox' -> Documents: {1, 3}\n",
      "Query: 'lazy dog' -> Documents: {0}\n"
     ]
    }
   ],
   "source": [
    "for query in queries:\n",
    "    result_doc = search(index, query)\n",
    "    print(f\"Query: '{query}' -> Documents: {result_doc}\")"
   ]
  },
  {
   "cell_type": "code",
   "execution_count": null,
   "id": "6e557899-5cd3-487c-aa69-66d0b1428fff",
   "metadata": {},
   "outputs": [],
   "source": []
  }
 ],
 "metadata": {
  "kernelspec": {
   "display_name": "Python 3 (ipykernel)",
   "language": "python",
   "name": "python3"
  },
  "language_info": {
   "codemirror_mode": {
    "name": "ipython",
    "version": 3
   },
   "file_extension": ".py",
   "mimetype": "text/x-python",
   "name": "python",
   "nbconvert_exporter": "python",
   "pygments_lexer": "ipython3",
   "version": "3.12.6"
  }
 },
 "nbformat": 4,
 "nbformat_minor": 5
}
