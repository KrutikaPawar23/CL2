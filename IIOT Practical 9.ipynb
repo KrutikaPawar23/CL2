{
 "cells": [
  {
   "cell_type": "code",
   "execution_count": 3,
   "id": "b0409e36-6240-4e16-a2b9-4b51ee207130",
   "metadata": {},
   "outputs": [],
   "source": [
    "import hashlib  # For hashing to ensure data integrity\n",
    "from cryptography.fernet import Fernet  # For encryption\n",
    "import random  # For simulating sensor data\n",
    "import numpy as np"
   ]
  },
  {
   "cell_type": "code",
   "execution_count": 2,
   "id": "7960a17f-2fbc-48e4-a511-629304f1de19",
   "metadata": {},
   "outputs": [
    {
     "name": "stdout",
     "output_type": "stream",
     "text": [
      "Defaulting to user installation because normal site-packages is not writeable\n",
      "Collecting cryptography\n",
      "  Downloading cryptography-43.0.3-cp39-abi3-win_amd64.whl.metadata (5.4 kB)\n",
      "Requirement already satisfied: cffi>=1.12 in c:\\users\\dipesh m pawar\\appdata\\roaming\\python\\python312\\site-packages (from cryptography) (1.17.1)\n",
      "Requirement already satisfied: pycparser in c:\\users\\dipesh m pawar\\appdata\\roaming\\python\\python312\\site-packages (from cffi>=1.12->cryptography) (2.22)\n",
      "Downloading cryptography-43.0.3-cp39-abi3-win_amd64.whl (3.1 MB)\n",
      "   ---------------------------------------- 0.0/3.1 MB ? eta -:--:--\n",
      "   ------------- -------------------------- 1.0/3.1 MB 6.3 MB/s eta 0:00:01\n",
      "   ---------------------------------------- 3.1/3.1 MB 7.8 MB/s eta 0:00:00\n",
      "Installing collected packages: cryptography\n",
      "Successfully installed cryptography-43.0.3\n",
      "Note: you may need to restart the kernel to use updated packages.\n"
     ]
    },
    {
     "name": "stderr",
     "output_type": "stream",
     "text": [
      "\n",
      "[notice] A new release of pip is available: 24.2 -> 24.3.1\n",
      "[notice] To update, run: python.exe -m pip install --upgrade pip\n"
     ]
    }
   ],
   "source": [
    "pip install cryptography"
   ]
  },
  {
   "cell_type": "code",
   "execution_count": 4,
   "id": "d3f4233a-401e-4c0c-98a0-f01cd0d6f32d",
   "metadata": {},
   "outputs": [],
   "source": [
    "key = Fernet.generate_key()\n",
    "cipher = Fernet(key)"
   ]
  },
  {
   "cell_type": "code",
   "execution_count": 5,
   "id": "a8b4b8df-9532-47ab-a7af-1d2b91cdac71",
   "metadata": {},
   "outputs": [
    {
     "name": "stdout",
     "output_type": "stream",
     "text": [
      "Original Temperature :  39\n"
     ]
    }
   ],
   "source": [
    "temp = np.random.randint(30,60)\n",
    "print(\"Original Temperature : \", temp)"
   ]
  },
  {
   "cell_type": "code",
   "execution_count": 6,
   "id": "c07b5d18-0cba-4ccf-ba34-c506b4d4c375",
   "metadata": {},
   "outputs": [
    {
     "name": "stdout",
     "output_type": "stream",
     "text": [
      "Encrypted Temperature:  b'gAAAAABnK3IPB1JqBP4nlE47T7jbKovsm1GB3uMY3vmWS2cyC26T_a4_9LK-LX8msp_GYA9-MRZ-D2kOwgjlXb9CRwjRcIh57w=='\n"
     ]
    }
   ],
   "source": [
    "enc = cipher.encrypt(str(temp).encode())\n",
    "print(\"Encrypted Temperature: \",enc)"
   ]
  },
  {
   "cell_type": "code",
   "execution_count": 7,
   "id": "ad609c5d-7811-460e-a36b-bbeebcb1aa9c",
   "metadata": {},
   "outputs": [
    {
     "name": "stdout",
     "output_type": "stream",
     "text": [
      "Decrypted Temperature:  39\n"
     ]
    }
   ],
   "source": [
    "dec = cipher.decrypt(enc).decode()\n",
    "print(\"Decrypted Temperature: \",dec)"
   ]
  },
  {
   "cell_type": "code",
   "execution_count": 8,
   "id": "476461a6-d1c4-441c-add5-71134ccc22a6",
   "metadata": {},
   "outputs": [
    {
     "name": "stdout",
     "output_type": "stream",
     "text": [
      "Data Integrity is verified\n"
     ]
    }
   ],
   "source": [
    "original_hash = hash(str(temp))\n",
    "decrypted_hash = hash(dec)\n",
    "\n",
    "if original_hash == decrypted_hash:\n",
    "    print(\"Data Integrity is verified\")\n",
    "else:\n",
    "    print(\"Data Integrity is not verified\")"
   ]
  },
  {
   "cell_type": "code",
   "execution_count": null,
   "id": "50f6cc19-b459-4bff-8b83-6d6765b34423",
   "metadata": {},
   "outputs": [],
   "source": []
  }
 ],
 "metadata": {
  "kernelspec": {
   "display_name": "Python 3 (ipykernel)",
   "language": "python",
   "name": "python3"
  },
  "language_info": {
   "codemirror_mode": {
    "name": "ipython",
    "version": 3
   },
   "file_extension": ".py",
   "mimetype": "text/x-python",
   "name": "python",
   "nbconvert_exporter": "python",
   "pygments_lexer": "ipython3",
   "version": "3.12.6"
  }
 },
 "nbformat": 4,
 "nbformat_minor": 5
}
