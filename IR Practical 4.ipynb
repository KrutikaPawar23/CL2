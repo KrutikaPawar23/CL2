{
 "cells": [
  {
   "cell_type": "code",
   "execution_count": 1,
   "id": "da447090-e427-425d-a9b1-9d04dda583b5",
   "metadata": {},
   "outputs": [
    {
     "name": "stdout",
     "output_type": "stream",
     "text": [
      "PageRank Scores:\n",
      "A: 0.3725\n",
      "B: 0.1958\n",
      "C: 0.3941\n",
      "D: 0.0375\n"
     ]
    }
   ],
   "source": [
    "import numpy as np\n",
    "\n",
    "def pagerank(graph, damping_factor=0.85, max_iter=100, tol=1e-6):\n",
    "    \"\"\"\n",
    "    PageRank algorithm implementation.\n",
    "\n",
    "    :param graph: Dictionary representing the directed graph (adjacency list).\n",
    "                  The keys are page identifiers and the values are lists of pages that point to them.\n",
    "    :param damping_factor: The damping factor (typically 0.85).\n",
    "    :param max_iter: The maximum number of iterations.\n",
    "    :param tol: The tolerance for convergence (when the change in rank is less than this, stop iterating).\n",
    "    :return: Dictionary of page ranks.\n",
    "    \"\"\"\n",
    "    # Step 1: Initialize rank values\n",
    "    N = len(graph)  # Number of pages in the graph\n",
    "    ranks = {page: 1.0 / N for page in graph}  # Initial rank of each page\n",
    "\n",
    "    # Step 2: Iterate and update ranks\n",
    "    for _ in range(max_iter):\n",
    "        new_ranks = {}\n",
    "        for page in graph:\n",
    "            # Sum the ranks from the pages linking to the current page\n",
    "            rank_sum = 0\n",
    "            for neighbor in graph:\n",
    "                if page in graph[neighbor]:\n",
    "                    # Distribute the rank of the neighbor\n",
    "                    rank_sum += ranks[neighbor] / len(graph[neighbor])\n",
    "\n",
    "            # Apply the PageRank formula\n",
    "            new_ranks[page] = (1 - damping_factor) / N + damping_factor * rank_sum\n",
    "\n",
    "        # Step 3: Check for convergence\n",
    "        # Calculate the difference between the old and new ranks\n",
    "        diff = sum(abs(new_ranks[page] - ranks[page]) for page in graph)\n",
    "        ranks = new_ranks\n",
    "        if diff < tol:\n",
    "            break\n",
    "\n",
    "    return ranks\n",
    "\n",
    "# Example Usage:\n",
    "if __name__ == \"__main__\":\n",
    "    # Example directed graph (adjacency list representation)\n",
    "    graph = {\n",
    "        'A': ['B', 'C'],\n",
    "        'B': ['C'],\n",
    "        'C': ['A'],\n",
    "        'D': ['C'],\n",
    "    }\n",
    "\n",
    "    # Run the PageRank algorithm\n",
    "    ranks = pagerank(graph)\n",
    "\n",
    "    # Print the final ranks\n",
    "    print(\"PageRank Scores:\")\n",
    "    for page, rank in ranks.items():\n",
    "        print(f\"{page}: {rank:.4f}\")\n"
   ]
  },
  {
   "cell_type": "code",
   "execution_count": null,
   "id": "783ec4ef-0e65-40dc-982d-fed8f8c9bb23",
   "metadata": {},
   "outputs": [],
   "source": []
  }
 ],
 "metadata": {
  "kernelspec": {
   "display_name": "Python 3 (ipykernel)",
   "language": "python",
   "name": "python3"
  },
  "language_info": {
   "codemirror_mode": {
    "name": "ipython",
    "version": 3
   },
   "file_extension": ".py",
   "mimetype": "text/x-python",
   "name": "python",
   "nbconvert_exporter": "python",
   "pygments_lexer": "ipython3",
   "version": "3.12.6"
  }
 },
 "nbformat": 4,
 "nbformat_minor": 5
}
